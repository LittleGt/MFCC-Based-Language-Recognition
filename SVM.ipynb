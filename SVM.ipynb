{
 "cells": [
  {
   "cell_type": "code",
   "execution_count": 24,
   "id": "65c4cc8a",
   "metadata": {},
   "outputs": [],
   "source": [
    "import numpy as np\n",
    "import pandas as pd\n",
    "import os\n",
    "import librosa\n",
    "import scipy\n",
    "from scipy.stats import skew\n",
    "from tqdm import tqdm, tqdm_pandas\n",
    "tqdm.pandas()\n",
    "from sklearn.model_selection import GridSearchCV\n",
    "from sklearn.model_selection import train_test_split\n",
    "from sklearn.metrics import accuracy_score\n",
    "from sklearn.preprocessing import StandardScaler\n",
    "from sklearn.decomposition import PCA\n",
    "from sklearn.svm import SVC\n",
    "import warnings\n",
    "warnings.filterwarnings('ignore')\n",
    "\n",
    "\n"
   ]
  },
  {
   "cell_type": "markdown",
   "id": "40241b55",
   "metadata": {},
   "source": [
    "# Load and split Data"
   ]
  },
  {
   "cell_type": "code",
   "execution_count": 25,
   "id": "37e6c7ff",
   "metadata": {},
   "outputs": [],
   "source": [
    "# Load MFCC data and labels\n",
    "X_train = np.load('mfcc/MFCC_data.npy')\n",
    "y_train = np.load('mfcc/language_dummy.npy')\n",
    "X_test = np.load('mfcc/MFCC_data_t.npy')\n",
    "y_test = np.load('mfcc/language_dummy_t.npy')\n",
    "\n",
    "# Define the number of classes (replace with the actual number)\n",
    "num_classes = 3  # Change this to the number of classes in your dataset\n",
    "\n",
    "# Assuming language_dummy.npy contains the class labels as one-hot encoded vectors\n",
    "# Convert one-hot encoded labels to class indices\n",
    "y_train = np.argmax(y_train, axis=1)\n",
    "\n",
    "# Reshape MFCC data to be 2D\n",
    "X_train = X_train.reshape(X_train.shape[0], -1)  # Flatten to 2D\n",
    "X_test = X_test.reshape(X_test.shape[0], -1)  # Flatten to 2D\n",
    "\n",
    "# Split the data into training and validation sets\n",
    "X_train, X_val, y_train, y_val = train_test_split(X_train, y_train, test_size=0.2, random_state=42)\n",
    "\n"
   ]
  },
  {
   "cell_type": "markdown",
   "id": "87bd5778",
   "metadata": {},
   "source": [
    "# Do PCA"
   ]
  },
  {
   "cell_type": "code",
   "execution_count": 26,
   "id": "6410a559",
   "metadata": {},
   "outputs": [],
   "source": [
    "# Standardize the data\n",
    "scaler = StandardScaler()\n",
    "X_train_std = scaler.fit_transform(X_train)\n",
    "X_val_std = scaler.transform(X_val)\n",
    "X_test_std = scaler.transform(X_test)\n",
    "\n",
    "# Perform PCA\n",
    "n_components = 50  # Adjust the number of components as needed\n",
    "pca = PCA(n_components=n_components)\n",
    "X_train_pca = pca.fit_transform(X_train_std)\n",
    "X_val_pca = pca.transform(X_val_std)\n",
    "X_test_pca = pca.transform(X_test_std)"
   ]
  },
  {
   "cell_type": "markdown",
   "id": "ab24bfe0",
   "metadata": {},
   "source": [
    "# Normal Model"
   ]
  },
  {
   "cell_type": "code",
   "execution_count": 27,
   "id": "8f95ed0a",
   "metadata": {},
   "outputs": [
    {
     "name": "stdout",
     "output_type": "stream",
     "text": [
      "[LibSVM]0.4334470989761092\n"
     ]
    }
   ],
   "source": [
    "clf = SVC(kernel='rbf', probability=True, verbose=True)\n",
    "clf.fit(X_train, y_train)\n",
    "\n",
    "print(accuracy_score(clf.predict(X_val), y_val))"
   ]
  },
  {
   "cell_type": "markdown",
   "id": "41587955",
   "metadata": {},
   "source": [
    "# do Grid Search for best Hyperparameters and Train"
   ]
  },
  {
   "cell_type": "code",
   "execution_count": 28,
   "id": "d56b0eb7",
   "metadata": {},
   "outputs": [
    {
     "name": "stdout",
     "output_type": "stream",
     "text": [
      "0.34674928042537295\n",
      "{'C': 10, 'gamma': 0.001}\n",
      "SVC(C=10, gamma=0.001)\n"
     ]
    }
   ],
   "source": [
    "# Define the paramter grid for C from 0.001 to 10, gamma from 0.001 to 10\n",
    "C_grid = [0.001, 0.01, 0.1, 1, 10]\n",
    "gamma_grid = [0.001, 0.01, 0.1, 1, 10]\n",
    "param_grid = {'C': C_grid, 'gamma' : gamma_grid}\n",
    "\n",
    "grid = GridSearchCV(SVC(kernel='rbf'), param_grid, cv = 3, scoring = \"accuracy\")\n",
    "grid.fit(X_train, y_train)\n",
    "\n",
    "# Find the best model\n",
    "print(grid.best_score_)\n",
    "\n",
    "print(grid.best_params_)\n",
    "\n",
    "print(grid.best_estimator_)"
   ]
  },
  {
   "cell_type": "code",
   "execution_count": null,
   "id": "57c5fca7",
   "metadata": {},
   "outputs": [],
   "source": []
  },
  {
   "cell_type": "code",
   "execution_count": 5,
   "id": "635b8746",
   "metadata": {
    "scrolled": true
   },
   "outputs": [
    {
     "name": "stdout",
     "output_type": "stream",
     "text": [
      "[LibSVM]0.3003412969283277\n"
     ]
    }
   ],
   "source": [
    "# Optimal model\n",
    "clf = SVC(kernel = 'rbf', C = 10, gamma = 0.001, probability=True, verbose=True)\n",
    "clf.fit(X_train, y_train)\n",
    "\n",
    "print(accuracy_score(clf.predict(X_val), y_val))"
   ]
  },
  {
   "cell_type": "markdown",
   "id": "89d7d920",
   "metadata": {},
   "source": [
    "# Train model with PCA"
   ]
  },
  {
   "cell_type": "code",
   "execution_count": 23,
   "id": "f637a325",
   "metadata": {
    "scrolled": true
   },
   "outputs": [
    {
     "ename": "NameError",
     "evalue": "name 'X_train_pca' is not defined",
     "output_type": "error",
     "traceback": [
      "\u001b[1;31m---------------------------------------------------------------------------\u001b[0m",
      "\u001b[1;31mNameError\u001b[0m                                 Traceback (most recent call last)",
      "Cell \u001b[1;32mIn [23], line 3\u001b[0m\n\u001b[0;32m      1\u001b[0m \u001b[38;5;66;03m# Train the SVM classifier on the PCA-transformed data\u001b[39;00m\n\u001b[0;32m      2\u001b[0m clf \u001b[38;5;241m=\u001b[39m SVC(kernel\u001b[38;5;241m=\u001b[39m\u001b[38;5;124m'\u001b[39m\u001b[38;5;124mrbf\u001b[39m\u001b[38;5;124m'\u001b[39m, probability\u001b[38;5;241m=\u001b[39m\u001b[38;5;28;01mTrue\u001b[39;00m, verbose\u001b[38;5;241m=\u001b[39m\u001b[38;5;28;01mTrue\u001b[39;00m)\n\u001b[1;32m----> 3\u001b[0m clf\u001b[38;5;241m.\u001b[39mfit(\u001b[43mX_train_pca\u001b[49m, y_train)\n\u001b[0;32m      5\u001b[0m \u001b[38;5;66;03m# Predict classes for the PCA-transformed test data\u001b[39;00m\n\u001b[0;32m      6\u001b[0m y_pred_test \u001b[38;5;241m=\u001b[39m clf\u001b[38;5;241m.\u001b[39mpredict(X_test_pca)\n",
      "\u001b[1;31mNameError\u001b[0m: name 'X_train_pca' is not defined"
     ]
    }
   ],
   "source": [
    "# Train the SVM classifier on the PCA-transformed data\n",
    "clf = SVC(kernel='rbf', probability=True, verbose=True)\n",
    "clf.fit(X_train_pca, y_train)\n",
    "\n",
    "# Predict classes for the PCA-transformed test data\n",
    "y_pred_test = clf.predict(X_test_pca)\n",
    "\n",
    "# Write the predictions to an output CSV file\n",
    "subm = pd.DataFrame()\n",
    "subm['fname'] = audio_test_files  # Make sure you have audio_test_files defined\n",
    "subm['label'] = y_pred_test  # Assuming y_pred_test contains the predicted labels\n",
    "subm.to_csv('submission.csv', index=False)"
   ]
  },
  {
   "cell_type": "markdown",
   "id": "732e8d78",
   "metadata": {},
   "source": [
    "# Save Results"
   ]
  },
  {
   "cell_type": "code",
   "execution_count": 14,
   "id": "c8fd342e",
   "metadata": {},
   "outputs": [
    {
     "name": "stdout",
     "output_type": "stream",
     "text": [
      "Validation Accuracy: 43.34%\n",
      "Classification Report:\n",
      "              precision    recall  f1-score   support\n",
      "\n",
      "           0    0.40000   0.38000   0.38974       100\n",
      "           1    0.39823   0.51136   0.44776        88\n",
      "           2    0.51765   0.41905   0.46316       105\n",
      "\n",
      "    accuracy                        0.43345       293\n",
      "   macro avg    0.43863   0.43680   0.43355       293\n",
      "weighted avg    0.44163   0.43345   0.43348       293\n",
      "\n",
      "Saved classification report to ./exp/SVM_3\\report_classification.csv\n"
     ]
    },
    {
     "name": "stderr",
     "output_type": "stream",
     "text": [
      "C:\\Users\\kuric\\AppData\\Local\\Temp\\ipykernel_32980\\1851504350.py:46: FutureWarning: The frame.append method is deprecated and will be removed from pandas in a future version. Use pandas.concat instead.\n",
      "  results = results.append(pd.DataFrame([row], columns=Column), ignore_index=True)\n",
      "C:\\Users\\kuric\\AppData\\Local\\Temp\\ipykernel_32980\\1851504350.py:46: FutureWarning: The frame.append method is deprecated and will be removed from pandas in a future version. Use pandas.concat instead.\n",
      "  results = results.append(pd.DataFrame([row], columns=Column), ignore_index=True)\n",
      "C:\\Users\\kuric\\AppData\\Local\\Temp\\ipykernel_32980\\1851504350.py:46: FutureWarning: The frame.append method is deprecated and will be removed from pandas in a future version. Use pandas.concat instead.\n",
      "  results = results.append(pd.DataFrame([row], columns=Column), ignore_index=True)\n",
      "C:\\Users\\kuric\\AppData\\Local\\Temp\\ipykernel_32980\\1851504350.py:46: FutureWarning: The frame.append method is deprecated and will be removed from pandas in a future version. Use pandas.concat instead.\n",
      "  results = results.append(pd.DataFrame([row], columns=Column), ignore_index=True)\n",
      "C:\\Users\\kuric\\AppData\\Local\\Temp\\ipykernel_32980\\1851504350.py:46: FutureWarning: The frame.append method is deprecated and will be removed from pandas in a future version. Use pandas.concat instead.\n",
      "  results = results.append(pd.DataFrame([row], columns=Column), ignore_index=True)\n",
      "C:\\Users\\kuric\\AppData\\Local\\Temp\\ipykernel_32980\\1851504350.py:46: FutureWarning: The frame.append method is deprecated and will be removed from pandas in a future version. Use pandas.concat instead.\n",
      "  results = results.append(pd.DataFrame([row], columns=Column), ignore_index=True)\n",
      "C:\\Users\\kuric\\AppData\\Local\\Temp\\ipykernel_32980\\1851504350.py:46: FutureWarning: The frame.append method is deprecated and will be removed from pandas in a future version. Use pandas.concat instead.\n",
      "  results = results.append(pd.DataFrame([row], columns=Column), ignore_index=True)\n",
      "C:\\Users\\kuric\\AppData\\Local\\Temp\\ipykernel_32980\\1851504350.py:48: FutureWarning: The frame.append method is deprecated and will be removed from pandas in a future version. Use pandas.concat instead.\n",
      "  results = results.append(pd.DataFrame([[\" \", \" \", \" \", \" \", \" \"]], columns=Column), ignore_index=True)\n"
     ]
    },
    {
     "data": {
      "image/png": "[encoded data removed]",
      "text/plain": [
       "<Figure size 576x432 with 1 Axes>"
      ]
     },
     "metadata": {},
     "output_type": "display_data"
    }
   ],
   "source": [
    "\n",
    "\n",
    "\n",
    "def report_to_list(rep):\n",
    "    if type(rep) == str:\n",
    "        lines = rep.split('\\n')\n",
    "        values = [line.split()[0:] for line in lines[0:]]\n",
    "        values = [item for item in values if item]\n",
    "        values = [item for item in values if item]\n",
    "\n",
    "        for i in range(0,len(values)):\n",
    "            if(i==0):\n",
    "                values[i].insert(0, '')\n",
    "            elif(i>len(values)-2-1):\n",
    "                values[i][0] = ' '.join(values[i][0:2])\n",
    "                del values[i][1]\n",
    "            elif(i>len(values)-3-1):\n",
    "                values[i].insert(1, '')\n",
    "                values[i].insert(1, '')\n",
    "\n",
    "            else:\n",
    "                values[i][0] = i-1\n",
    "\n",
    "        return values\n",
    "    else:\n",
    "        print(\"report must be str\")\n",
    "        return rep\n",
    "\n",
    "# Predict classes for the validation set\n",
    "y_pred_val = clf.predict(X_val)\n",
    "\n",
    "# Calculate accuracy\n",
    "accuracy = accuracy_score(y_val, y_pred_val)\n",
    "print(f\"Validation Accuracy: {accuracy*100:.2f}%\")\n",
    "\n",
    "# Calculate precision, recall, and F1-score\n",
    "classification_rep = classification_report(y_val, y_pred_val, digits=5)\n",
    "print(\"Classification Report:\")\n",
    "print(classification_rep)\n",
    "classification_df = report_to_list(classification_rep)\n",
    "Column = classification_df[0]\n",
    "Column[0] = \"Model Reports\"\n",
    "results = pd.DataFrame(columns = classification_df[0])\n",
    "i=0\n",
    "for row in classification_df:\n",
    "    i=i+1\n",
    "    if(i==1):\n",
    "        next\n",
    "    results = results.append(pd.DataFrame([row], columns=Column), ignore_index=True)\n",
    "\n",
    "results = results.append(pd.DataFrame([[\" \", \" \", \" \", \" \", \" \"]], columns=Column), ignore_index=True)\n",
    "\n",
    "# Determine the next available experiment number\n",
    "exp_number = 1\n",
    "while os.path.exists(f\"./exp/SVM_{exp_number}\"):\n",
    "    exp_number += 1\n",
    "\n",
    "# Create a directory for the experiment\n",
    "exp_directory = f\"./exp/SVM_{exp_number}\"\n",
    "os.makedirs(exp_directory)\n",
    "\n",
    "# Save the classification report to a CSV file within the experiment directory\n",
    "report_filename = os.path.join(exp_directory, \"report_classification.csv\")\n",
    "results.to_csv(report_filename, index=False)\n",
    "print(f\"Saved classification report to {report_filename}\")\n",
    "\n",
    "\n",
    "\n",
    "\n",
    "# Calculate and print the confusion matrix\n",
    "confusion_mat = confusion_matrix(y_val, y_pred_val)\n",
    "\n",
    "# Create a heatmap of the confusion matrix using Seaborn\n",
    "plt.figure(figsize=(8, 6))\n",
    "sns.set(font_scale=1.2)\n",
    "sns.heatmap(confusion_mat, annot=True, fmt='d', cmap='Blues', cbar=False)\n",
    "plt.xlabel('Predicted Labels')\n",
    "plt.ylabel('True Labels')\n",
    "plt.title('Confusion Matrix')\n",
    "plt.savefig(os.path.join(exp_directory, \"confusion_matrix.png\"))\n",
    "plt.show()\n",
    "\n",
    "\n",
    "\n"
   ]
  },
  {
   "cell_type": "code",
   "execution_count": null,
   "id": "78933342",
   "metadata": {},
   "outputs": [],
   "source": []
  },
  {
   "cell_type": "code",
   "execution_count": null,
   "id": "b29ee8a4",
   "metadata": {},
   "outputs": [],
   "source": []
  },
  {
   "cell_type": "code",
   "execution_count": null,
   "id": "6f49f496",
   "metadata": {},
   "outputs": [],
   "source": []
  }
 ],
 "metadata": {
  "kernelspec": {
   "display_name": "Python [conda env:forecastAI]",
   "language": "python",
   "name": "conda-env-forecastAI-py"
  },
  "language_info": {
   "codemirror_mode": {
    "name": "ipython",
    "version": 3
   },
   "file_extension": ".py",
   "mimetype": "text/x-python",
   "name": "python",
   "nbconvert_exporter": "python",
   "pygments_lexer": "ipython3",
   "version": "3.9.15"
  }
 },
 "nbformat": 4,
 "nbformat_minor": 5
}
